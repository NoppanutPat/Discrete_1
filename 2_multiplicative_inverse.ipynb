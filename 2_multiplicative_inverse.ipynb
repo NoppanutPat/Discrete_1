{
  "nbformat": 4,
  "nbformat_minor": 0,
  "metadata": {
    "colab": {
      "name": "2-multiplicative-inverse.ipynb",
      "version": "0.3.2",
      "provenance": [],
      "include_colab_link": true
    },
    "kernelspec": {
      "display_name": "Python 3",
      "language": "python",
      "name": "python3"
    }
  },
  "cells": [
    {
      "cell_type": "markdown",
      "metadata": {
        "id": "view-in-github",
        "colab_type": "text"
      },
      "source": [
        "<a href=\"https://colab.research.google.com/github/NoppanutPat/Discrete_1/blob/master/2_multiplicative_inverse.ipynb\" target=\"_parent\"><img src=\"https://colab.research.google.com/assets/colab-badge.svg\" alt=\"Open In Colab\"/></a>"
      ]
    },
    {
      "metadata": {
        "id": "9agAZAwLUHxZ",
        "colab_type": "text"
      },
      "cell_type": "markdown",
      "source": [
        "## Modular multiplicative inverse\n",
        "\n",
        "### Extended GCD\n",
        "\n",
        "เขียนฟังก์ชัน `exgcd` ด้านล่างที่รับ `a`, `b` และคืนค่า `g`,`x`,`y` ที่ $g=gcd(a,b)$ และ $ax+by=g$"
      ]
    },
    {
      "metadata": {
        "id": "U-f0V48_UHxc",
        "colab_type": "code",
        "colab": {}
      },
      "cell_type": "code",
      "source": [
        "# ============= your task ==============\n",
        "\n",
        "def exgcd(a,b):\n",
        "    if a % b == 0:\n",
        "        return (b, 0, 1)\n",
        "    else:\n",
        "        gg,xx,yy = exgcd(b, a % b)\n",
        "        return (gg, 0, 0)                    ### modify this line"
      ],
      "execution_count": 0,
      "outputs": []
    },
    {
      "metadata": {
        "id": "oRes99hfUHxi",
        "colab_type": "text"
      },
      "cell_type": "markdown",
      "source": [
        "ทดสอบกับตัวอย่างด้านล่าง ควรได้ผลลัพธ์เป็น\n",
        "\n",
        "    (1, -1, 1)\n",
        "    (1, 1, -9)\n",
        "    (4, 2, -5)\n",
        "    (1, -7, 18)\n",
        "    (1, 119, -29)"
      ]
    },
    {
      "metadata": {
        "id": "zRSlg85mUHxk",
        "colab_type": "code",
        "colab": {}
      },
      "cell_type": "code",
      "source": [
        "print(exgcd(10,11))\n",
        "print(exgcd(100,11))\n",
        "print(exgcd(112,44))\n",
        "print(exgcd(113,44))\n",
        "print(exgcd(300,1231))"
      ],
      "execution_count": 0,
      "outputs": []
    },
    {
      "metadata": {
        "id": "iWc-lfXeUHxo",
        "colab_type": "text"
      },
      "cell_type": "markdown",
      "source": [
        "### Multiplicative Inverse\n",
        "\n",
        "เราสามารถหา multiplicative inverse modulo $q$ ได้ด้วย `exgcd`  ให้เขียนฟังก์ชัน `modinv` ด้านล่าง ที่รับ `a` และ `q` จากนั้นคืนค่า $a^{-1} \\pmod q$"
      ]
    },
    {
      "metadata": {
        "id": "6AtZpCd_UHxp",
        "colab_type": "code",
        "colab": {}
      },
      "cell_type": "code",
      "source": [
        "# ============= your task ==============\n",
        "\n",
        "def modinv(a,q):\n",
        "    return 1"
      ],
      "execution_count": 0,
      "outputs": []
    },
    {
      "metadata": {
        "id": "1IcRxLXeUHxr",
        "colab_type": "text"
      },
      "cell_type": "markdown",
      "source": [
        "ทดสอบกับโค้ดด้านล่าง คำตอบควรเป็น 1 หมดทุกบรรทัด"
      ]
    },
    {
      "metadata": {
        "id": "B5OAXyrBUHxs",
        "colab_type": "code",
        "colab": {}
      },
      "cell_type": "code",
      "source": [
        "def testmodinv(a,q):\n",
        "    inv = modinv(a,q)\n",
        "    return (a * inv) % q\n",
        "\n",
        "print(testmodinv(5,14))\n",
        "print(testmodinv(5,16))\n",
        "print(testmodinv(70,101))\n",
        "print(testmodinv(703,10411))\n",
        "print(testmodinv(12323,213421))"
      ],
      "execution_count": 0,
      "outputs": []
    },
    {
      "metadata": {
        "id": "Y82rJOSTUHxv",
        "colab_type": "text"
      },
      "cell_type": "markdown",
      "source": [
        "### RSA\n",
        "\n",
        "เราจะทดลอง RSA algorithm ในการเข้ารหัสข้อมูล\n",
        "\n",
        "#### ขั้นที่ 1 สร้างกุญแจ\n",
        "\n",
        "ให้เลือกจำนวนเฉพาะสองจำนวน `p` และ `q` ที่มีขนาดค่อนข้างใหญ่ (เช่นหลายสิบล้าน)  สามารถดูได้จากรายการที่ [prime pages](https://primes.utm.edu/lists/small/millions/)"
      ]
    },
    {
      "metadata": {
        "id": "NqI3DRw5UHxv",
        "colab_type": "code",
        "colab": {}
      },
      "cell_type": "code",
      "source": [
        "# ใส่ค่าที่เลือกลงที่นี่\n",
        "p = 1\n",
        "q = 1"
      ],
      "execution_count": 0,
      "outputs": []
    },
    {
      "metadata": {
        "id": "ClL1WpvLUHxx",
        "colab_type": "text"
      },
      "cell_type": "markdown",
      "source": [
        "เราจะให้ n = pq"
      ]
    },
    {
      "metadata": {
        "id": "vDZvK2vFUHxy",
        "colab_type": "code",
        "colab": {}
      },
      "cell_type": "code",
      "source": [
        "n = p * q"
      ],
      "execution_count": 0,
      "outputs": []
    },
    {
      "metadata": {
        "id": "k7p9t6ebUHxz",
        "colab_type": "text"
      },
      "cell_type": "markdown",
      "source": [
        "เราจะสร้าง key pair โดยเลือก $e$ มาสักค่า จากนั้นหาค่า $d$ ที่เป็น multiplicative inverse ของ $e$ modulo $(p-1)(q-1)$"
      ]
    },
    {
      "metadata": {
        "id": "v_5IJ5_ZUHxz",
        "colab_type": "code",
        "colab": {}
      },
      "cell_type": "code",
      "source": [
        "# เลือกค่า e\n",
        "e = 3"
      ],
      "execution_count": 0,
      "outputs": []
    },
    {
      "metadata": {
        "id": "XpHFCmtmUHx1",
        "colab_type": "code",
        "colab": {}
      },
      "cell_type": "code",
      "source": [
        "# แก้โค้ดด้านล่างให้คำนวณ d\n",
        "d = modinv(e,(p-1)*(q-1)) % ((p-1)*(q-1))\n",
        "print(d)"
      ],
      "execution_count": 0,
      "outputs": []
    },
    {
      "metadata": {
        "id": "cTptWK_3UHx2",
        "colab_type": "text"
      },
      "cell_type": "markdown",
      "source": [
        "ทดสอบด้านล่างควรได้ 1"
      ]
    },
    {
      "metadata": {
        "id": "LKF6NntmUHx2",
        "colab_type": "code",
        "colab": {}
      },
      "cell_type": "code",
      "source": [
        "e*d % ((p-1)*(q-1))"
      ],
      "execution_count": 0,
      "outputs": []
    },
    {
      "metadata": {
        "id": "5xN4Dni4UHx4",
        "colab_type": "text"
      },
      "cell_type": "markdown",
      "source": [
        "ด้านล่างเป็นกุญแจที่เราได้"
      ]
    },
    {
      "metadata": {
        "id": "ERlCgt7bUHx4",
        "colab_type": "code",
        "colab": {}
      },
      "cell_type": "code",
      "source": [
        "private_key = (d,n)\n",
        "public_key = (e,n)\n",
        "\n",
        "print('Public key = ', public_key)\n",
        "print('Private key = ', private_key)"
      ],
      "execution_count": 0,
      "outputs": []
    },
    {
      "metadata": {
        "id": "aFVRBuOzUHx5",
        "colab_type": "text"
      },
      "cell_type": "markdown",
      "source": [
        "#### ขั้นที่ 2 Encryption / Decryption"
      ]
    },
    {
      "metadata": {
        "id": "4xpAMUNnUHx5",
        "colab_type": "text"
      },
      "cell_type": "markdown",
      "source": [
        "เนื่องจากเราต้องยกกำลังด้วยกำลังขนาดใหญ่มาก ให้นำฟังก์ชัน power ที่เคยเขียนจากครั้งก่อนมาใช้"
      ]
    },
    {
      "metadata": {
        "id": "hO9KVWXDUHx6",
        "colab_type": "code",
        "colab": {}
      },
      "cell_type": "code",
      "source": [
        "# ============= your task ==============\n",
        "\n",
        "def power(a,n,p):\n",
        "    return 1"
      ],
      "execution_count": 0,
      "outputs": []
    },
    {
      "metadata": {
        "id": "pj8ZolHLUHx7",
        "colab_type": "text"
      },
      "cell_type": "markdown",
      "source": [
        "ด้านล่างเป็นฟังก์ชันเข้ารหัส `encrypt` และถอดรหัส `decrypt`"
      ]
    },
    {
      "metadata": {
        "id": "F-nAcoUJUHx8",
        "colab_type": "code",
        "colab": {}
      },
      "cell_type": "code",
      "source": [
        "def encrypt(m, pub_key):\n",
        "    return power(m, pub_key[0], pub_key[1])\n",
        "\n",
        "def decrypt(m, priv_key):\n",
        "    return power(m, priv_key[0], priv_key[1])\n"
      ],
      "execution_count": 0,
      "outputs": []
    },
    {
      "metadata": {
        "id": "AUWgB_NPUHx9",
        "colab_type": "text"
      },
      "cell_type": "markdown",
      "source": [
        "ทดลองเปลี่ยนค่า input ที่ `encrypt` ด้านล่าง ผลลัพธ์ควรออกมาตรง"
      ]
    },
    {
      "metadata": {
        "id": "90whHFLNUHx9",
        "colab_type": "code",
        "colab": {}
      },
      "cell_type": "code",
      "source": [
        "decrypt(encrypt(1121124444, public_key), private_key)"
      ],
      "execution_count": 0,
      "outputs": []
    },
    {
      "metadata": {
        "id": "qi5T4isbUHx-",
        "colab_type": "text"
      },
      "cell_type": "markdown",
      "source": [
        "#### ทดลองกับเพื่อน"
      ]
    },
    {
      "metadata": {
        "id": "jEGzcVP5UHx-",
        "colab_type": "text"
      },
      "cell_type": "markdown",
      "source": [
        "ให้โพส public_key เป็น comment ใน status  และให้เพื่อนทดลองส่ง message มาหา  ทดสอบว่าเมื่อ decrypt แล้วได้ผลลัพธ์ตรงกันกับที่เพื่อนส่งมาหรือไม่"
      ]
    }
  ]
}